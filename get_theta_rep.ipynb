{
 "cells": [
  {
   "cell_type": "markdown",
   "id": "3e92a281-4d7d-4558-9c4d-e813b704aaa6",
   "metadata": {
    "tags": []
   },
   "source": [
    "## Define the function"
   ]
  },
  {
   "cell_type": "code",
   "execution_count": 1,
   "id": "342d7fc0-7313-4419-8fd4-88963d21cc5f",
   "metadata": {},
   "outputs": [],
   "source": [
    "import numpy as np\n",
    "import matplotlib.pyplot as plt\n",
    "from PIL import Image, ImageEnhance\n",
    "import cv2\n",
    "\n",
    "# load, normalize, and resize\n",
    "def load_transform(filepath, \n",
    "                   img_size=(16, 16), \n",
    "                   conv_to_theta=True,\n",
    "                   contrast=1, \n",
    "                   equalize=True,                   \n",
    "                   crop=True,\n",
    "                   flatten=True):\n",
    "    \n",
    "    \"\"\"\n",
    "    flatten (True/False) - flatten to a vector\n",
    "    \"\"\"\n",
    "    \n",
    "    # =============================================\n",
    "    # Assume that this is part of the image collection        \n",
    "\n",
    "    img = Image.open(filepath)\n",
    "        \n",
    "    # Assume that this is part of the image collection\n",
    "    img = img.resize((128, 128))                \n",
    "        \n",
    "    # get the middle patch    \n",
    "    img = np.array(img)\n",
    "    \n",
    "    if crop:\n",
    "        loc = img.shape[0] // 3\n",
    "        img = img[loc:loc*2, loc:loc*2] \n",
    "    \n",
    "        \n",
    "    # equalize histogram\n",
    "    if equalize:\n",
    "        \n",
    "        # Set the lower threshold value to target high intensity areas\n",
    "        lower_threshold = 50\n",
    "\n",
    "        # Create the mask to discard\n",
    "        _, mask = cv2.threshold(img, lower_threshold, 255, cv2.THRESH_BINARY)     \n",
    "        masked_equalized_image = cv2.equalizeHist(img * (mask // 255))\n",
    "        img = cv2.addWeighted(img, 0.5, masked_equalized_image, 0.5, 0)\n",
    "        \n",
    "        # img = cv2.equalizeHist(img)    \n",
    "    \n",
    "    # Assume that this is part of the image collection\n",
    "    img = Image.fromarray(img)\n",
    "    img = img.resize(img_size) # bicubic\n",
    "    \n",
    "    # change contrast\n",
    "    #image brightness enhancer\n",
    "    if contrast != 1:\n",
    "        enhancer = ImageEnhance.Contrast(img)\n",
    "        img = enhancer.enhance(contrast)     \n",
    "    \n",
    "    # normalize\n",
    "    img = np.array(img) / 255 # normalize\n",
    "    \n",
    "    if conv_to_theta:\n",
    "        img = img * np.pi / 2 # convert to number between 0 and pi/2\n",
    "    \n",
    "    if flatten:\n",
    "        img = img.flatten()\n",
    "    \n",
    "    return img"
   ]
  },
  {
   "cell_type": "markdown",
   "id": "132e29cf-9c41-4cee-b7fb-9ac3cdfc976b",
   "metadata": {
    "tags": []
   },
   "source": [
    "## Test on One image"
   ]
  },
  {
   "cell_type": "code",
   "execution_count": 2,
   "id": "80e7c246-444a-4340-821e-8cce99c2cf07",
   "metadata": {},
   "outputs": [],
   "source": [
    "img_size = (16, 16)"
   ]
  },
  {
   "cell_type": "code",
   "execution_count": 3,
   "id": "f12063e7-a564-4860-bc92-002fa79ada40",
   "metadata": {},
   "outputs": [
    {
     "name": "stdout",
     "output_type": "stream",
     "text": [
      "0.7949268911151378 0.43928539626195057\n",
      "[0.11087974 0.75151824 1.42911666 1.3675168  1.26279705 1.04103757\n",
      " 0.41271903 0.08007981 0.09239978 0.36343915 0.90551788 1.281277\n",
      " 1.48455653 1.23199712 0.23407945 0.14167967 0.08007981 0.09855977\n",
      " 0.6406385  1.3675168  1.47223656 1.29975696 1.00407765 0.72071831\n",
      " 0.6837584  1.08415746 1.39215674 1.49071651 1.36135682 0.5543987\n",
      " 0.06775984 0.14783965 0.11087974 0.11087974 0.0862398  0.35727916\n",
      " 0.97327772 1.42911666 1.55231637 1.53383641 1.50303649 1.51535646\n",
      " 1.50919647 1.40447672 0.61599856 0.10471976 0.06775984 0.32647924\n",
      " 0.33263922 0.06775984 0.14783965 0.14167967 0.09855977 0.54207873\n",
      " 1.25663706 1.47223656 1.49071651 1.3675168  1.19503721 0.71455833\n",
      " 0.16631961 0.09855977 0.10471976 0.73303829 1.07183749 0.48663886\n",
      " 0.30799928 0.27103937 0.1293597  0.05543987 0.32031925 0.54823872\n",
      " 0.5112788  0.37575912 0.43735898 0.37575912 0.40039906 0.38191911\n",
      " 0.8131181  1.3243969  1.39831673 1.2381571  1.03487758 0.84391803\n",
      " 0.61599856 0.39423908 0.27719935 0.32031925 0.08007981 0.07391983\n",
      " 0.50511882 0.82543807 0.99791767 1.14575732 1.28743699 1.34287686\n",
      " 1.20119719 1.25047708 1.01023764 0.8993579  0.86239798 0.86855797\n",
      " 0.75151824 0.44351896 0.24639942 0.46199892 0.89319791 1.02871759\n",
      " 0.93631781 1.05951752 1.26895703 1.34287686 0.97327772 1.26279705\n",
      " 1.05951752 0.82543807 0.72071831 0.75151824 0.70223836 0.28335934\n",
      " 0.27103937 0.66527844 0.90551788 0.9855977  0.93015782 1.11495739\n",
      " 1.28743699 1.20119719 0.96711774 1.24431709 1.15191731 0.92399784\n",
      " 0.85007801 0.71455833 0.71455833 0.41271903 0.34495919 0.70223836\n",
      " 0.8993579  0.93015782 0.99791767 1.21967715 1.21967715 1.07799748\n",
      " 0.84391803 1.21351716 1.25663706 1.03487758 0.86239798 0.75151824\n",
      " 0.75767823 0.51743879 0.40655905 0.87471795 0.91783785 0.89319791\n",
      " 1.07799748 1.29975696 1.23199712 0.91783785 0.81927808 1.05951752\n",
      " 1.34287686 1.17039726 0.96095775 0.9855977  0.96711774 0.69607837\n",
      " 0.48663886 0.65911846 1.04719755 1.14575732 1.21967715 1.37983677\n",
      " 1.18887722 0.85007801 0.88087794 0.93015782 1.39215674 1.36135682\n",
      " 1.15807729 1.01023764 0.6406385  0.66527844 0.9855977  0.16631961\n",
      " 0.40039906 1.07799748 1.41679669 1.42295667 0.96711774 0.85007801\n",
      " 0.72071831 0.80695811 1.33055689 1.4537566  1.06567751 0.41271903\n",
      " 0.08007981 0.2587194  0.69607837 0.11087974 0.1293597  0.71455833\n",
      " 1.43527664 1.38599676 0.95479777 0.88703793 0.64679849 0.80079813\n",
      " 1.30591695 1.46607657 0.83775804 0.29567931 0.0862398  0.1293597\n",
      " 0.33263922 0.09239978 0.22791947 0.69607837 1.12111738 1.39831673\n",
      " 0.95479777 0.6837584  0.97943771 0.97327772 1.26895703 1.20735718\n",
      " 0.69607837 0.48047888 0.13551968 0.12319971 0.27719935 0.08007981\n",
      " 0.29567931 0.60983857 0.73303829 1.2381571  1.25047708 0.88703793\n",
      " 1.21967715 1.18271723 1.18887722 0.7268783  0.61599856 0.47431889\n",
      " 0.12319971 0.11087974 0.22791947 0.0862398  0.20943951 0.52359878\n",
      " 0.62831853 0.88703793 1.29359698 1.26895703]\n"
     ]
    }
   ],
   "source": [
    "# Flattened\n",
    "filepath = 'data/train/NonDemented/nonDem1498.jpg'\n",
    "img = load_transform(filepath)\n",
    "print(img.mean(), img.std())\n",
    "print(img)"
   ]
  },
  {
   "cell_type": "markdown",
   "id": "7db9ea2f-2b01-4aac-b854-05a45d732249",
   "metadata": {},
   "source": [
    "## To Crop"
   ]
  },
  {
   "cell_type": "code",
   "execution_count": 5,
   "id": "e9afc81f-c06a-45ae-a649-7d0d3517309f",
   "metadata": {},
   "outputs": [
    {
     "data": {
      "image/png": "[encoded data removed]",
      "text/plain": [
       "<Figure size 640x480 with 1 Axes>"
      ]
     },
     "metadata": {},
     "output_type": "display_data"
    },
    {
     "data": {
      "image/png": "[encoded data removed]",
      "text/plain": [
       "<Figure size 640x480 with 1 Axes>"
      ]
     },
     "metadata": {},
     "output_type": "display_data"
    }
   ],
   "source": [
    "import glob\n",
    "\n",
    "img_size = (16, 16)\n",
    "\n",
    "to_crop = glob.glob(\"data/Tocrop/*.jpg\")\n",
    "\n",
    "# run for all\n",
    "to_crop = np.array([load_transform(f, img_size=img_size, flatten=False) for f in to_crop])\n",
    "\n",
    "# save\n",
    "np.save('data/processed/to_crop.npy', to_crop)\n",
    "\n",
    "plt.imshow(np.array(to_crop[0]))\n",
    "plt.show()\n",
    "plt.hist(to_crop[0].flatten(), bins=30)\n",
    "plt.show()"
   ]
  },
  {
   "cell_type": "markdown",
   "id": "81a260c7-9a34-4b86-9acc-f3d20291c3b5",
   "metadata": {},
   "source": [
    "## Run on All images - Brain"
   ]
  },
  {
   "cell_type": "code",
   "execution_count": null,
   "id": "92f5192c-e53a-403d-81f7-6d5227cd7498",
   "metadata": {},
   "outputs": [],
   "source": [
    "img_size = (16, 16)"
   ]
  },
  {
   "cell_type": "code",
   "execution_count": null,
   "id": "b42a139b-a9eb-44f3-8715-6f5ffad49b3b",
   "metadata": {},
   "outputs": [],
   "source": [
    "import glob\n",
    "# train_set_0 = glob.glob(\"data/train/NonDemented/*.jpg\")\n",
    "# train_set_0 = glob.glob(\"data/train/NonDemented/nonDem2185.jpg\")\n",
    "train_set_0 = [\"data/train/nonDemented/nonDem1329.jpg\", \"data/train/nonDemented/nonDem1117.jpg\"]\n",
    "train_set_1 = []\n",
    "\n",
    "# for k in ['VeryMild', 'Mild', 'Moderate']:\n",
    "for k in ['Moderate']:\n",
    "    train_set_1 += glob.glob(f\"data/train/{k}Demented/moderateDem42.jpg\")    \n",
    "\n",
    "# test_set_0 = glob.glob(\"data/test/NonDemented/*.jpg\")\n",
    "# test_set_1 = []\n",
    "\n",
    "test_set_0 = glob.glob(\"data/selected_images/test_nondem_*.jpg\")\n",
    "test_set_1 = glob.glob(\"data/selected_images/test_dem_*.jpg\")\n",
    "ref = [\"data/selected_images/ref.jpg\"]\n",
    "\n",
    "# for k in ['Moderate']:\n",
    "#     test_set_1 += glob.glob(f\"data/test/{k}Demented/*.jpg\")\n",
    "\n",
    "print(\"train_set_0\", len(train_set_0))\n",
    "print(\"train_set_1\", len(train_set_1))\n",
    "\n",
    "print(\"test_set_0\", len(test_set_0))\n",
    "print(\"test_set_1\", len(test_set_1))"
   ]
  },
  {
   "cell_type": "code",
   "execution_count": null,
   "id": "78b483ec-d389-440a-a872-29933cd819c6",
   "metadata": {},
   "outputs": [],
   "source": [
    "# run for all\n",
    "train_set_0b = np.array([load_transform(f, img_size=img_size, flatten=False) for f in train_set_0])\n",
    "train_set_1b = np.array([load_transform(f, img_size=img_size, flatten=False) for f in train_set_1])\n",
    "\n",
    "test_set_0b = np.array([load_transform(f, img_size=img_size, flatten=False) for f in test_set_0])\n",
    "test_set_1b = np.array([load_transform(f, img_size=img_size, flatten=False) for f in test_set_1])\n",
    "\n",
    "ref_b = np.array([load_transform(f, img_size=img_size, flatten=False) for f in ref])\n",
    "\n",
    "# save\n",
    "np.save('data/processed/train_set_mtx_0.npy', train_set_0b)\n",
    "np.save('data/processed/train_set_mtx_1.npy', train_set_1b)\n",
    "\n",
    "np.save('data/processed/test_set_mtx_0.npy', test_set_0b)\n",
    "np.save('data/processed/test_set_mtx_1.npy', test_set_1b)\n",
    "\n",
    "np.save('data/processed/ref_mtx.npy', ref_b)\n",
    "\n",
    "plt.imshow(np.array(train_set_0b[0]))\n",
    "plt.show()\n",
    "plt.hist(train_set_0b[0].flatten(), bins=30)\n",
    "plt.show()\n",
    "\n",
    "plt.imshow(np.array(train_set_1b[0]))\n",
    "plt.show()\n",
    "plt.hist(train_set_1b[0].flatten(), bins=30)\n",
    "plt.show()\n",
    "\n",
    "plt.imshow(np.array(ref_b[0]))\n",
    "plt.show()\n",
    "plt.hist(ref_b[0].flatten(), bins=30)\n",
    "plt.show()"
   ]
  },
  {
   "cell_type": "code",
   "execution_count": null,
   "id": "f6316e99-caf2-4393-8691-425a062448d3",
   "metadata": {},
   "outputs": [],
   "source": [
    "# run for all\n",
    "train_set_0b = np.array([load_transform(f, img_size=img_size) for f in train_set_0])\n",
    "train_set_1b = np.array([load_transform(f, img_size=img_size) for f in train_set_1])\n",
    "\n",
    "test_set_0b = np.array([load_transform(f, img_size=img_size) for f in test_set_0])\n",
    "test_set_1b = np.array([load_transform(f, img_size=img_size) for f in test_set_1])\n",
    "\n",
    "ref_b = np.array([load_transform(f, img_size=img_size) for f in ref])\n",
    "\n",
    "# save\n",
    "np.save('data/processed/train_set_0.npy', train_set_0b)\n",
    "np.save('data/processed/train_set_1.npy', train_set_1b)\n",
    "\n",
    "np.save('data/processed/test_set_0.npy', test_set_0b)\n",
    "np.save('data/processed/test_set_1.npy', test_set_1b)\n",
    "\n",
    "np.save('data/processed/ref.npy', ref_b)\n",
    "\n",
    "plt.hist(test_set_1b[0].flatten(), bins=30)\n",
    "plt.show()"
   ]
  },
  {
   "cell_type": "markdown",
   "id": "a9f82351-2f0a-4987-8fa7-830c0f5bed88",
   "metadata": {},
   "source": [
    "## Get an average Reference Image"
   ]
  },
  {
   "cell_type": "code",
   "execution_count": null,
   "id": "093f493b-8437-47a1-97f3-95fee5d78041",
   "metadata": {},
   "outputs": [],
   "source": [
    "train_set_0 = glob.glob(\"data/train/NonDemented/*.jpg\")\n",
    "train_set_1 = []\n",
    "for k in ['Moderate']:\n",
    "    train_set_1 += glob.glob(f\"data/train/{k}Demented/*.jpg\")"
   ]
  },
  {
   "cell_type": "code",
   "execution_count": null,
   "id": "44823cf3-c2ac-4aaf-9b9b-26632006a285",
   "metadata": {},
   "outputs": [],
   "source": [
    "train_set_0b = np.array([load_transform(f, img_size=img_size, flatten=False, contrast=1) for f in train_set_0])\n",
    "train_set_1b = np.array([load_transform(f, img_size=img_size, flatten=False, contrast=1) for f in train_set_1])\n",
    "\n",
    "print(len(train_set_0b), len(train_set_1b))\n",
    "\n",
    "f, axs = plt.subplots(1, 2)\n",
    "train_set_0_mean = train_set_0b.mean(axis=0)\n",
    "train_set_1_mean = train_set_1b.mean(axis=0)\n",
    "\n",
    "axs[0].imshow(train_set_0_mean)\n",
    "axs[1].imshow(train_set_1_mean)\n",
    "\n",
    "np.save('data/processed/train_set_0_mean.npy', train_set_0_mean)\n",
    "np.save('data/processed/train_set_1_mean.npy', train_set_1_mean)"
   ]
  },
  {
   "cell_type": "code",
   "execution_count": null,
   "id": "eb043c08-cc6b-4d06-8651-4def0b2dae91",
   "metadata": {},
   "outputs": [],
   "source": [
    "train_set_0b = np.array([load_transform(f, img_size=img_size, flatten=True, contrast=1) for f in train_set_0])\n",
    "train_set_1b = np.array([load_transform(f, img_size=img_size, flatten=True, contrast=1) for f in train_set_1])\n",
    "\n",
    "train_mean_0 =train_set_0b.mean(axis=1)\n",
    "train_mean_1 =train_set_1b.mean(axis=1)\n",
    "\n",
    "train_std_0 =train_set_0b.std(axis=1)\n",
    "train_std_1 =train_set_1b.std(axis=1)\n",
    "\n",
    "plt.hist(train_mean_0, bins=20, alpha=1, density=True, cumulative=True, histtype='step')\n",
    "plt.hist(train_mean_1, bins=20, alpha=1, density=True, cumulative=True, histtype='step')\n",
    "plt.show()\n",
    "\n",
    "plt.hist(train_std_0, bins=20, alpha=1, density=True, cumulative=True, histtype='step')\n",
    "plt.hist(train_std_1, bins=20, alpha=1, density=True, cumulative=True, histtype='step')\n",
    "plt.show()"
   ]
  },
  {
   "cell_type": "code",
   "execution_count": null,
   "id": "22796005-90f6-46a8-81d8-17155812c8c9",
   "metadata": {},
   "outputs": [],
   "source": [
    "import seaborn as sns\n",
    "\n",
    "# Generate data\n",
    "bins=50\n",
    "hist_2d_0, x_edges, y_edges = np.histogram2d(train_mean_0, train_std_0, bins=bins)\n",
    "hist_2d_1, x_edges, y_edges = np.histogram2d(train_mean_1, train_std_1, bins=bins)\n",
    "\n",
    "# Create the heatmap\n",
    "f, axs = plt.subplots(1, 2, sharex=True, sharey=True, figsize=(12, 4))\n",
    "sns.heatmap(hist_2d_0, cmap='viridis', annot=False, linewidths=0, ax=axs[0])\n",
    "sns.heatmap(hist_2d_1, cmap='viridis', annot=False, linewidths=0, ax=axs[1])\n",
    "plt.show()\n"
   ]
  },
  {
   "cell_type": "markdown",
   "id": "533cdf91-74b8-4a89-b5fa-543399314d91",
   "metadata": {
    "tags": []
   },
   "source": [
    "## Appendix: Run on All images - MNIST"
   ]
  },
  {
   "cell_type": "code",
   "execution_count": null,
   "id": "24ac3b0b-05ba-4077-a8df-92eafcb62b99",
   "metadata": {},
   "outputs": [],
   "source": [
    "import glob\n",
    "train_set_0 = glob.glob(\"data/mnist_train/0/*.jpg\")[:50]\n",
    "train_set_1 = glob.glob(\"data/mnist_train/1/*.jpg\")[:50]\n",
    "\n",
    "test_set_0 = glob.glob(\"data/mnist_test/0/*.jpg\")[:50]\n",
    "test_set_1 = glob.glob(\"data/mnist_test/1/*.jpg\")[:50]\n",
    "\n",
    "print(\"train_set_0\", len(train_set_0))\n",
    "print(\"train_set_1\", len(train_set_1))\n",
    "\n",
    "print(\"test_set_0\", len(test_set_0))\n",
    "print(\"test_set_1\", len(test_set_1))"
   ]
  },
  {
   "cell_type": "code",
   "execution_count": null,
   "id": "c7c017de-d12a-4982-b818-ed1856729b32",
   "metadata": {},
   "outputs": [],
   "source": [
    "# run for all\n",
    "train_set_0b = np.array([load_transform(f, img_size=img_size, crop=False) for f in train_set_0])\n",
    "train_set_1b = np.array([load_transform(f, img_size=img_size, crop=False) for f in train_set_1])\n",
    "\n",
    "test_set_0b = np.array([load_transform(f, img_size=img_size, crop=False) for f in test_set_0])\n",
    "test_set_1b = np.array([load_transform(f, img_size=img_size, crop=False) for f in test_set_1])\n",
    "\n",
    "# save\n",
    "np.save('data/processed/mnist_train_set_0.npy', train_set_0b)\n",
    "np.save('data/processed/mnist_train_set_1.npy', train_set_1b)\n",
    "\n",
    "np.save('data/processed/mnist_test_set_0.npy', test_set_0b)\n",
    "np.save('data/processed/mnist_test_set_1.npy', test_set_1b)"
   ]
  },
  {
   "cell_type": "code",
   "execution_count": null,
   "id": "dcce7ab6-5944-46a2-ae41-d5e23f858bc0",
   "metadata": {},
   "outputs": [],
   "source": [
    "plt.hist(test_set_1b[0].flatten(), bins=30)\n",
    "plt.show()"
   ]
  },
  {
   "cell_type": "code",
   "execution_count": null,
   "id": "675563df-3d0b-492f-ba92-b541b8590760",
   "metadata": {},
   "outputs": [],
   "source": [
    "# run for all\n",
    "train_set_0b = np.array([load_transform(f, img_size=img_size, flatten=False, crop=False) for f in train_set_0])\n",
    "train_set_1b = np.array([load_transform(f, img_size=img_size, flatten=False, crop=False) for f in train_set_1])\n",
    "\n",
    "test_set_0b = np.array([load_transform(f, img_size=img_size, flatten=False, crop=False) for f in test_set_0])\n",
    "test_set_1b = np.array([load_transform(f, img_size=img_size, flatten=False, crop=False) for f in test_set_1])\n",
    "\n",
    "# save\n",
    "np.save('data/processed/mnist_train_set_mtx_0.npy', train_set_0b)\n",
    "np.save('data/processed/mnist_train_set_mtx_1.npy', train_set_1b)\n",
    "\n",
    "np.save('data/processed/mnist_test_set_mtx_0.npy', test_set_0b)\n",
    "np.save('data/processed/mnist_test_set_mtx_1.npy', test_set_1b)\n",
    "\n",
    "plt.imshow(np.array(test_set_1b[0]))\n",
    "plt.show()\n",
    "plt.hist(test_set_1b[0].flatten(), bins=30)\n",
    "plt.show()"
   ]
  }
 ],
 "metadata": {
  "kernelspec": {
   "display_name": "Python 3 (ipykernel)",
   "language": "python",
   "name": "python3"
  },
  "language_info": {
   "codemirror_mode": {
    "name": "ipython",
    "version": 3
   },
   "file_extension": ".py",
   "mimetype": "text/x-python",
   "name": "python",
   "nbconvert_exporter": "python",
   "pygments_lexer": "ipython3",
   "version": "3.10.10"
  }
 },
 "nbformat": 4,
 "nbformat_minor": 5
}

{
 "cells": [
  {
   "cell_type": "code",
   "execution_count": 33,
   "id": "342d7fc0-7313-4419-8fd4-88963d21cc5f",
   "metadata": {},
   "outputs": [],
   "source": [
    "import numpy as np\n",
    "import matplotlib.pyplot as plt\n",
    "from PIL import Image\n",
    "\n",
    "# load, normalize, and resize\n",
    "def load_transform(filepath, img_size = (4, 4), flatten=False):\n",
    "    \n",
    "    \"\"\"\n",
    "    flatten (True/False) - flatten to a vector\n",
    "    \"\"\"\n",
    "\n",
    "    img = Image.open(filepath)\n",
    "    img = img.resize(img_size)\n",
    "    img = np.array(img) / 255 # normalize\n",
    "    img = img * np.pi / 2 # convert to number between 0 and pi/2\n",
    "    \n",
    "    if flatten:\n",
    "        img = img.flatten()\n",
    "    \n",
    "    return img"
   ]
  },
  {
   "cell_type": "code",
   "execution_count": 35,
   "id": "02551b46-d220-4b5f-bbf2-20100495019f",
   "metadata": {},
   "outputs": [
    {
     "name": "stdout",
     "output_type": "stream",
     "text": [
      "[[0.         0.         0.05543987 0.13551968 0.16015963 0.0431199\n",
      "  0.         0.        ]\n",
      " [0.         0.09855977 0.65295847 0.63447852 0.57903865 0.48047888\n",
      "  0.09855977 0.        ]\n",
      " [0.01847996 0.47431889 0.6837584  0.59135862 0.5112788  0.43119899\n",
      "  0.40655905 0.00615999]\n",
      " [0.07391983 0.53591875 0.63447852 0.51743879 0.53591875 0.62215855\n",
      "  0.41887902 0.01231997]\n",
      " [0.02463994 0.28335934 0.65911846 0.70839834 0.75151824 0.60367859\n",
      "  0.20943951 0.00615999]\n",
      " [0.         0.27103937 0.6837584  0.62831853 0.5543987  0.63447852\n",
      "  0.22175948 0.        ]\n",
      " [0.         0.09239978 0.65295847 0.61599856 0.56671867 0.56055869\n",
      "  0.06159986 0.        ]\n",
      " [0.         0.         0.03079993 0.09239978 0.10471976 0.01847996\n",
      "  0.         0.        ]]\n"
     ]
    },
    {
     "data": {
      "text/plain": [
       "<matplotlib.image.AxesImage at 0x7fb86ac9bf70>"
      ]
     },
     "execution_count": 35,
     "metadata": {},
     "output_type": "execute_result"
    },
    {
     "data": {
      "image/png": "[encoded data removed]",
      "text/plain": [
       "<Figure size 640x480 with 1 Axes>"
      ]
     },
     "metadata": {},
     "output_type": "display_data"
    }
   ],
   "source": [
    "filepath = \"data/train/MildDemented/mildDem0.jpg\"\n",
    "img = load_transform(filepath, img_size = (8, 8))\n",
    "print(img)\n",
    "plt.imshow(img)"
   ]
  },
  {
   "cell_type": "code",
   "execution_count": 37,
   "id": "f12063e7-a564-4860-bc92-002fa79ada40",
   "metadata": {},
   "outputs": [
    {
     "name": "stdout",
     "output_type": "stream",
     "text": [
      "[0.         0.         0.05543987 0.13551968 0.16015963 0.0431199\n",
      " 0.         0.         0.         0.09855977 0.65295847 0.63447852\n",
      " 0.57903865 0.48047888 0.09855977 0.         0.01847996 0.47431889\n",
      " 0.6837584  0.59135862 0.5112788  0.43119899 0.40655905 0.00615999\n",
      " 0.07391983 0.53591875 0.63447852 0.51743879 0.53591875 0.62215855\n",
      " 0.41887902 0.01231997 0.02463994 0.28335934 0.65911846 0.70839834\n",
      " 0.75151824 0.60367859 0.20943951 0.00615999 0.         0.27103937\n",
      " 0.6837584  0.62831853 0.5543987  0.63447852 0.22175948 0.\n",
      " 0.         0.09239978 0.65295847 0.61599856 0.56671867 0.56055869\n",
      " 0.06159986 0.         0.         0.         0.03079993 0.09239978\n",
      " 0.10471976 0.01847996 0.         0.        ]\n"
     ]
    }
   ],
   "source": [
    "filepath = \"data/train/MildDemented/mildDem0.jpg\"\n",
    "img = load_transform(filepath, img_size = (8, 8), flatten = True)\n",
    "print(img)"
   ]
  },
  {
   "cell_type": "code",
   "execution_count": null,
   "id": "d4cb5cfe-cee4-4b08-80fb-87f3de8be9cb",
   "metadata": {},
   "outputs": [],
   "source": []
  }
 ],
 "metadata": {
  "kernelspec": {
   "display_name": "Python 3 (ipykernel)",
   "language": "python",
   "name": "python3"
  },
  "language_info": {
   "codemirror_mode": {
    "name": "ipython",
    "version": 3
   },
   "file_extension": ".py",
   "mimetype": "text/x-python",
   "name": "python",
   "nbconvert_exporter": "python",
   "pygments_lexer": "ipython3",
   "version": "3.10.10"
  }
 },
 "nbformat": 4,
 "nbformat_minor": 5
}

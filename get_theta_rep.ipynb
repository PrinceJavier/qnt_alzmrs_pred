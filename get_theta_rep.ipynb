{
 "cells": [
  {
   "cell_type": "markdown",
   "id": "3e92a281-4d7d-4558-9c4d-e813b704aaa6",
   "metadata": {
    "tags": []
   },
   "source": [
    "## Define the function"
   ]
  },
  {
   "cell_type": "code",
   "execution_count": 1,
   "id": "342d7fc0-7313-4419-8fd4-88963d21cc5f",
   "metadata": {},
   "outputs": [],
   "source": [
    "import numpy as np\n",
    "import matplotlib.pyplot as plt\n",
    "from PIL import Image\n",
    "\n",
    "# load, normalize, and resize\n",
    "def load_transform(filepath, \n",
    "                   img_size=(16, 16), \n",
    "                   conv_to_theta=True,\n",
    "                   flatten=True):\n",
    "    \n",
    "    \"\"\"\n",
    "    flatten (True/False) - flatten to a vector\n",
    "    \"\"\"\n",
    "\n",
    "    img = Image.open(filepath)\n",
    "    img = img.resize(img_size)\n",
    "    img = np.array(img) / 255 # normalize\n",
    "    \n",
    "    if conv_to_theta:\n",
    "        img = img * np.pi / 2 # convert to number between 0 and pi/2\n",
    "    \n",
    "    if flatten:\n",
    "        img = img.flatten()\n",
    "    \n",
    "    return img"
   ]
  },
  {
   "cell_type": "markdown",
   "id": "2b11766a-7de6-4e97-8b7d-db20ba19250b",
   "metadata": {},
   "source": [
    "## Run on All images"
   ]
  },
  {
   "cell_type": "code",
   "execution_count": 2,
   "id": "92f5192c-e53a-403d-81f7-6d5227cd7498",
   "metadata": {},
   "outputs": [],
   "source": [
    "img_size = (16, 16)"
   ]
  },
  {
   "cell_type": "code",
   "execution_count": 3,
   "id": "b42a139b-a9eb-44f3-8715-6f5ffad49b3b",
   "metadata": {},
   "outputs": [
    {
     "name": "stdout",
     "output_type": "stream",
     "text": [
      "train_set_0 2560\n",
      "train_set_1 52\n",
      "test_set_0 640\n",
      "test_set_1 12\n"
     ]
    }
   ],
   "source": [
    "import glob\n",
    "train_set_0 = glob.glob(\"data/train/NonDemented/*.jpg\")\n",
    "train_set_1 = []\n",
    "# for k in ['VeryMild', 'Mild', 'Moderate']:\n",
    "for k in ['Moderate']:\n",
    "    train_set_1 += glob.glob(f\"data/train/{k}Demented/*.jpg\")\n",
    "\n",
    "test_set_0 = glob.glob(\"data/test/NonDemented/*.jpg\")\n",
    "test_set_1 = []\n",
    "for k in ['Moderate']:\n",
    "    test_set_1 += glob.glob(f\"data/test/{k}Demented/*.jpg\")\n",
    "\n",
    "print(\"train_set_0\", len(train_set_0))\n",
    "print(\"train_set_1\", len(train_set_1))\n",
    "\n",
    "print(\"test_set_0\", len(test_set_0))\n",
    "print(\"test_set_1\", len(test_set_1))"
   ]
  },
  {
   "cell_type": "code",
   "execution_count": 11,
   "id": "f6316e99-caf2-4393-8691-425a062448d3",
   "metadata": {},
   "outputs": [],
   "source": [
    "# run for all\n",
    "train_set_0b = np.array([load_transform(f, img_size=img_size) for f in train_set_0])\n",
    "train_set_1b = np.array([load_transform(f, img_size=img_size) for f in train_set_1])\n",
    "\n",
    "test_set_0b = np.array([load_transform(f, img_size=img_size) for f in test_set_0])\n",
    "test_set_1b = np.array([load_transform(f, img_size=img_size) for f in test_set_1])\n",
    "\n",
    "# save\n",
    "np.save('data/processed/train_set_0.npy', train_set_0b)\n",
    "np.save('data/processed/train_set_1.npy', train_set_1b)\n",
    "\n",
    "np.save('data/processed/test_set_0.npy', test_set_0b)\n",
    "np.save('data/processed/test_set_1.npy', test_set_1b)"
   ]
  },
  {
   "cell_type": "code",
   "execution_count": 10,
   "id": "73e3f679-217b-44cf-9705-3b515b1c22a3",
   "metadata": {},
   "outputs": [],
   "source": [
    "# run for all\n",
    "train_set_0b = np.array([load_transform(f, img_size=img_size, flatten=False) for f in train_set_0])\n",
    "train_set_1b = np.array([load_transform(f, img_size=img_size, flatten=False) for f in train_set_1])\n",
    "\n",
    "test_set_0b = np.array([load_transform(f, img_size=img_size, flatten=False) for f in test_set_0])\n",
    "test_set_1b = np.array([load_transform(f, img_size=img_size, flatten=False) for f in test_set_1])\n",
    "\n",
    "# save\n",
    "np.save('data/processed/train_set_mtx_0.npy', train_set_0b)\n",
    "np.save('data/processed/train_set_mtx_1.npy', train_set_1b)\n",
    "\n",
    "np.save('data/processed/test_set_mtx_0.npy', test_set_0b)\n",
    "np.save('data/processed/test_set_mtx_1.npy', test_set_1b)"
   ]
  },
  {
   "cell_type": "code",
   "execution_count": 9,
   "id": "3af86bc2-5248-4fb6-b0b5-d93030da2b71",
   "metadata": {},
   "outputs": [
    {
     "data": {
      "text/plain": [
       "<matplotlib.image.AxesImage at 0x7f87a94d4190>"
      ]
     },
     "execution_count": 9,
     "metadata": {},
     "output_type": "execute_result"
    },
    {
     "data": {
      "image/png": "[encoded data removed]",
      "text/plain": [
       "<Figure size 640x480 with 1 Axes>"
      ]
     },
     "metadata": {},
     "output_type": "display_data"
    }
   ],
   "source": [
    "plt.imshow(np.array(test_set_1b[0]))"
   ]
  },
  {
   "cell_type": "markdown",
   "id": "8a471664-a2bd-487f-8d65-5fc03ba6dc52",
   "metadata": {
    "tags": []
   },
   "source": [
    "## Test on One image"
   ]
  },
  {
   "cell_type": "code",
   "execution_count": null,
   "id": "258f4fc8-011e-4cce-b37a-16007c3cce09",
   "metadata": {},
   "outputs": [],
   "source": [
    "for i in range(5):\n",
    "    f, axs = plt.subplots(1, 2)\n",
    "\n",
    "    filepath = train_set_1[i]\n",
    "\n",
    "    # Unflattened\n",
    "    img1 = load_transform(filepath, \n",
    "                         img_size = img_size,\n",
    "                         conv_to_theta=True,\n",
    "                         flatten=False\n",
    "                        )\n",
    "\n",
    "    filepath = train_set_0[i]\n",
    "\n",
    "    # Unflattened\n",
    "    img0 = load_transform(filepath, \n",
    "                         img_size = img_size,\n",
    "                         conv_to_theta=True,\n",
    "                         flatten=False\n",
    "                        )\n",
    "    axs[0].imshow(img0)\n",
    "    axs[1].imshow(img1)\n",
    "    plt.show()"
   ]
  },
  {
   "cell_type": "code",
   "execution_count": null,
   "id": "f12063e7-a564-4860-bc92-002fa79ada40",
   "metadata": {},
   "outputs": [],
   "source": [
    "# Flattened\n",
    "img = load_transform(filepath, \n",
    "                     img_size = img_size,\n",
    "                     conv_to_theta=True,\n",
    "                     flatten=True\n",
    "                    )\n",
    "\n",
    "np.save('sample.npy', img)\n",
    "img = np.load('sample.npy')\n",
    "\n",
    "print(img[:100])"
   ]
  },
  {
   "cell_type": "code",
   "execution_count": null,
   "id": "1ed64e4c-2839-4126-b6cd-1a4f94add6ff",
   "metadata": {},
   "outputs": [],
   "source": []
  }
 ],
 "metadata": {
  "kernelspec": {
   "display_name": "Python 3 (ipykernel)",
   "language": "python",
   "name": "python3"
  },
  "language_info": {
   "codemirror_mode": {
    "name": "ipython",
    "version": 3
   },
   "file_extension": ".py",
   "mimetype": "text/x-python",
   "name": "python",
   "nbconvert_exporter": "python",
   "pygments_lexer": "ipython3",
   "version": "3.10.10"
  }
 },
 "nbformat": 4,
 "nbformat_minor": 5
}

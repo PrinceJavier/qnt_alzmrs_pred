{
 "cells": [
  {
   "cell_type": "markdown",
   "id": "125bfd63",
   "metadata": {},
   "source": [
    "### Import packages"
   ]
  },
  {
   "cell_type": "code",
   "execution_count": 1,
   "id": "e294252c",
   "metadata": {},
   "outputs": [],
   "source": [
    "import qiskit as qk\n",
    "from qiskit import QuantumCircuit, Aer, IBMQ, QuantumRegister\n",
    "from qiskit import transpile, assemble\n",
    "from qiskit.tools.jupyter import *\n",
    "from qiskit.visualization import plot_histogram\n",
    "from qiskit.quantum_info.states.statevector import Statevector\n",
    "from qiskit.quantum_info import DensityMatrix\n",
    "from math import pi\n",
    "import numpy as np\n",
    "from qiskit.circuit.library.standard_gates import RYGate\n",
    "import matplotlib.pyplot as plt"
   ]
  },
  {
   "cell_type": "markdown",
   "id": "b42bb6da",
   "metadata": {},
   "source": [
    "### Flexible Representation of Quantum Images (FRQI)"
   ]
  },
  {
   "cell_type": "code",
   "execution_count": 2,
   "id": "8681356f",
   "metadata": {},
   "outputs": [],
   "source": [
    "def get_U(n, thetas):\n",
    "    qr = QuantumRegister(n+1)\n",
    "    qc = QuantumCircuit(qr)\n",
    "    \n",
    "    binary = []\n",
    "\n",
    "    n_pixels = 2**n\n",
    "\n",
    "    for i in range(n_pixels): \n",
    "            binary.append(f'{i:0{int(np.log2(n_pixels))}b}')\n",
    "\n",
    "    RY_gate = RYGate(theta=2*thetas[0]).control(n)\n",
    "\n",
    "    for i in range(n):\n",
    "        qc.h(i)\n",
    "\n",
    "    qc.barrier()\n",
    "    \n",
    "    qc.append(RY_gate, qr)\n",
    "\n",
    "    qc.barrier()\n",
    "\n",
    "    for j in range(n_pixels-1):\n",
    "        ls_prev = binary[j]\n",
    "        ls_next = binary[j+1]\n",
    "    \n",
    "        for i in range(n):\n",
    "            if int(ls_prev[i]) == 0 and int(ls_next[i]) == 1:\n",
    "                qc.x(i)\n",
    "            \n",
    "            if int(ls_prev[i]) == 1 and int(ls_next[i]) == 0:\n",
    "                qc.x(i)\n",
    "                \n",
    "        RY_gate = RYGate(theta=2*thetas[j+1]).control(n)\n",
    "\n",
    "        qc.append(RY_gate, qr)\n",
    " \n",
    "        qc.barrier()\n",
    "    \n",
    "    return qc"
   ]
  },
  {
   "cell_type": "markdown",
   "id": "083bfa5e",
   "metadata": {},
   "source": [
    "### Compute fidelity: statevector vs shotnoise"
   ]
  },
  {
   "cell_type": "code",
   "execution_count": 3,
   "id": "ec1604a6",
   "metadata": {},
   "outputs": [],
   "source": [
    "def statevector_fidelity(U_ref, U_trial, n): \n",
    "    state_ref = np.array(Statevector(U_ref))\n",
    "    state_trial = np.array(Statevector(U_trial))\n",
    "    \n",
    "    return state_ref.conj().T @ state_trial\n",
    "\n",
    "def statevector_L2(U_ref, U_trial, n, n_shots): \n",
    "    state_ref = np.array(Statevector(U_ref))\n",
    "    state_trial = np.array(Statevector(U_trial))\n",
    "\n",
    "    return np.sum(np.absolute(state_ref - state_trial)**2)\n"
   ]
  },
  {
   "cell_type": "code",
   "execution_count": 4,
   "id": "d842653e",
   "metadata": {},
   "outputs": [],
   "source": [
    "def shotnoise_fidelity(U_ref, U_trial, n, n_shots): \n",
    "    qc = U_ref.compose(U_trial.inverse())\n",
    "    qc.measure_all()\n",
    "    \n",
    "    aer_sim = Aer.get_backend('aer_simulator')\n",
    "    t_qc = transpile(qc, aer_sim)\n",
    "    qobj = assemble(t_qc, shots=n_shots)\n",
    "    result = aer_sim.run(qobj).result()\n",
    "    counts = result.get_counts(qc)\n",
    "\n",
    "    \n",
    "    if str('0'*(n+1)) in counts and str('1'+'0'*(n)) in counts: \n",
    "        return (counts['0'*(n+1)] + counts['1' + '0'*(n)])/n_shots\n",
    "    if str('0'*(n+1)) in counts and str('1'+'0'*(n)) not in counts:\n",
    "        return (counts['0'*(n+1)])/n_shots\n",
    "    if str('0'*(n+1)) not in counts and str('1'+'0'*(n)) in counts:\n",
    "        return (counts['1'+'0'*(n)])/n_shots\n"
   ]
  },
  {
   "cell_type": "markdown",
   "id": "5668b36e",
   "metadata": {},
   "source": [
    "### Load the image dataset"
   ]
  },
  {
   "cell_type": "code",
   "execution_count": 6,
   "id": "acff7d82",
   "metadata": {},
   "outputs": [],
   "source": [
    "img_refs = []\n",
    "img_trial_similars = []\n",
    "img_trial_differents = []\n",
    "\n",
    "n_images = 30\n",
    "\n",
    "for i in range(n_images): \n",
    "    img_ref = np.array(np.load(f\"Preprocessed_Dataset/Train_set/one_ref/ref.npy\")).reshape(16, 16)\n",
    "    img_refs = np.array(np.load(f\"Preprocessed_Dataset/Train_set/many_ref/ref {i+1}.npy\")).reshape(16, 16)\n",
    "    img_trial_similars.append(np.load(f\"Preprocessed_Dataset/Test_set/Similar/yes {i+1}.npy\").reshape(16, 16))\n",
    "    img_trial_differents.append(np.load(f\"Preprocessed_Dataset/Test_set/Different/non {i+1}.npy\").reshape(16, 16))\n",
    "    \n",
    "img_trial_similars = np.array(img_trial_similars)\n",
    "img_trial_differents = np.array(img_trial_differents)"
   ]
  },
  {
   "cell_type": "code",
   "execution_count": 7,
   "id": "e373c566",
   "metadata": {},
   "outputs": [
    {
     "data": {
      "text/plain": [
       "Text(0.5, 1.0, 'Different')"
      ]
     },
     "execution_count": 7,
     "metadata": {},
     "output_type": "execute_result"
    },
    {
     "data": {
      "image/png": "[encoded data removed]",
      "text/plain": [
       "<Figure size 432x288 with 1 Axes>"
      ]
     },
     "metadata": {
      "needs_background": "light"
     },
     "output_type": "display_data"
    },
    {
     "data": {
      "image/png": "[encoded data removed]",
      "text/plain": [
       "<Figure size 432x288 with 1 Axes>"
      ]
     },
     "metadata": {
      "needs_background": "light"
     },
     "output_type": "display_data"
    },
    {
     "data": {
      "image/png": "[encoded data removed]",
      "text/plain": [
       "<Figure size 432x288 with 1 Axes>"
      ]
     },
     "metadata": {
      "needs_background": "light"
     },
     "output_type": "display_data"
    }
   ],
   "source": [
    "fig, ax = plt.subplots()\n",
    "ax.imshow(img_ref)\n",
    "ax.set_title(\"Reference\")\n",
    "\n",
    "fig, ax = plt.subplots()\n",
    "ax.imshow(img_trial_similars[0])\n",
    "ax.set_title(\"Similar\")\n",
    "\n",
    "fig, ax = plt.subplots()\n",
    "ax.imshow(img_trial_differents[0])\n",
    "ax.set_title(\"Different\")\n"
   ]
  },
  {
   "cell_type": "markdown",
   "id": "fef11ae7",
   "metadata": {},
   "source": [
    "### Patch trick"
   ]
  },
  {
   "cell_type": "code",
   "execution_count": 8,
   "id": "e6f6b382",
   "metadata": {},
   "outputs": [],
   "source": [
    "def get_patches(img, patch_side): \n",
    "    img_patches = []\n",
    "    patch_size = patch_side**2\n",
    "    n_patches = img.shape[0]//patch_side\n",
    "    for i in range(n_patches): \n",
    "        for j in range(n_patches):\n",
    "            img_patches.append(img[i*patch_side:(i+1)*patch_side, j*patch_side:(j+1)*patch_side])\n",
    "        \n",
    "    return np.array(img_patches)"
   ]
  },
  {
   "cell_type": "markdown",
   "id": "2be04a21",
   "metadata": {},
   "source": [
    "### Fidelity (statevector)"
   ]
  },
  {
   "cell_type": "code",
   "execution_count": 9,
   "id": "ba6a5c5c",
   "metadata": {},
   "outputs": [],
   "source": [
    "def statevector_fidelity_patches(imgref_patches, imgtrial_patches):\n",
    "    cfids = []\n",
    "    tds = []\n",
    "    \n",
    "    for i in range(imgref_patches.shape[0]): \n",
    "        imgref = imgref_patches[i]\n",
    "        imgtrial = imgtrial_patches[i]\n",
    "\n",
    "        theta_ref = imgref.flatten()\n",
    "        theta_trial = imgtrial.flatten()\n",
    "        \n",
    "        n = int(np.log2(theta_ref.size))\n",
    "\n",
    "        U_ref = get_U(n, theta_ref)\n",
    "        U_trial = get_U(n, theta_trial)\n",
    "\n",
    "        cfid = statevector_fidelity(U_ref, U_trial, n)\n",
    "        cfids.append(cfid)\n",
    "        tds.append(2*(1-np.sqrt(cfid)))\n",
    "    \n",
    "    cfids = np.array(cfids)\n",
    "    tds = np.array(tds)\n",
    "\n",
    "    return cfids, tds\n",
    "\n",
    "td_mean_similars = []\n",
    "td_mean_differents = []\n",
    "\n",
    "for i in range(n_images):\n",
    "    imgref_patches = get_patches(img_ref, 2)\n",
    "    imgtrialsimilar_patches = get_patches(img_trial_similars[i], 2)\n",
    "    imgtrialdifferent_patches = get_patches(img_trial_differents[i], 2)\n",
    "    \n",
    "    cfids_similar, tds_similar = statevector_fidelity_patches(imgref_patches, imgtrialsimilar_patches)\n",
    "    cfids_different, tds_different = statevector_fidelity_patches(imgref_patches, imgtrialdifferent_patches)\n",
    "\n",
    "    td_mean_similars.append(np.mean(tds_similar, axis = 0))\n",
    "    td_mean_differents.append(np.mean(tds_different, axis = 0))"
   ]
  },
  {
   "cell_type": "markdown",
   "id": "fc089a90",
   "metadata": {},
   "source": [
    "#### Plotting"
   ]
  },
  {
   "cell_type": "code",
   "execution_count": 10,
   "id": "a2783b39",
   "metadata": {},
   "outputs": [
    {
     "name": "stderr",
     "output_type": "stream",
     "text": [
      "C:\\Users\\Utente\\anaconda3\\lib\\site-packages\\matplotlib\\cbook\\__init__.py:1298: ComplexWarning: Casting complex values to real discards the imaginary part\n",
      "  return np.asarray(x, float)\n"
     ]
    },
    {
     "data": {
      "text/plain": [
       "Text(0.5, 0, 'Figure')"
      ]
     },
     "execution_count": 10,
     "metadata": {},
     "output_type": "execute_result"
    },
    {
     "data": {
      "image/png": "[encoded data removed]",
      "text/plain": [
       "<Figure size 432x288 with 1 Axes>"
      ]
     },
     "metadata": {
      "needs_background": "light"
     },
     "output_type": "display_data"
    }
   ],
   "source": [
    "plt.plot(td_mean_similars, label = 'Similar')\n",
    "plt.plot(td_mean_differents, label = 'Different')\n",
    "plt.hlines(0.18, 0, n_images, label='threshold', linestyle='dashed', color='black')\n",
    "\n",
    "plt.legend()\n",
    "plt.ylabel(\"Closeness\")\n",
    "plt.xlabel(\"Figure\")"
   ]
  },
  {
   "cell_type": "markdown",
   "id": "f14012bb",
   "metadata": {},
   "source": [
    "### Fidelity (shotnoise)"
   ]
  },
  {
   "cell_type": "code",
   "execution_count": 12,
   "id": "643138d8",
   "metadata": {},
   "outputs": [],
   "source": [
    "def shotnoise_fidelity_patches(imgref_patches, imgtrial_patches, n_shots):\n",
    "    cfids = []\n",
    "    tds = []\n",
    "    \n",
    "    for i in range(imgref_patches.shape[0]): \n",
    "        imgref = imgref_patches[i]\n",
    "        imgtrial = imgtrial_patches[i]\n",
    "\n",
    "        theta_ref = imgref.flatten()\n",
    "        theta_trial = imgtrial.flatten()\n",
    "        \n",
    "        n = int(np.log2(theta_ref.size))\n",
    "\n",
    "        U_ref = get_U(n, theta_ref)\n",
    "        U_trial = get_U(n, theta_trial)\n",
    "\n",
    "        cfid = shotnoise_fidelity(U_ref, U_trial, n, n_shots)\n",
    "\n",
    "        cfids.append(cfid)\n",
    "        tds.append(2*(1-np.sqrt(cfid)))\n",
    "    \n",
    "    cfids = np.array(cfids)\n",
    "    tds = np.array(tds)\n",
    "\n",
    "    return cfids, tds\n",
    "\n",
    "td_mean_similars = []\n",
    "td_mean_differents = []\n",
    "n_shots = 100000\n",
    "\n",
    "for i in range(n_images):\n",
    "    imgref_patches = get_patches(img_ref, 2)\n",
    "    imgtrialsimilar_patches = get_patches(img_trial_similars[i], 2)\n",
    "    imgtrialdifferent_patches = get_patches(img_trial_differents[i], 2)\n",
    "    \n",
    "    cfids_similar, tds_similar = shotnoise_fidelity_patches(imgref_patches, imgtrialsimilar_patches, n_shots)\n",
    "    cfids_different, tds_different = shotnoise_fidelity_patches(imgref_patches, imgtrialdifferent_patches, n_shots)\n",
    "\n",
    "    td_mean_similars.append(np.mean(tds_similar, axis = 0))\n",
    "    td_mean_differents.append(np.mean(tds_different, axis = 0))\n",
    "    "
   ]
  },
  {
   "cell_type": "code",
   "execution_count": 16,
   "id": "5ed2c446",
   "metadata": {},
   "outputs": [
    {
     "data": {
      "text/plain": [
       "Text(0.5, 0, 'Figure')"
      ]
     },
     "execution_count": 16,
     "metadata": {},
     "output_type": "execute_result"
    },
    {
     "data": {
      "image/png": "[encoded data removed]",
      "text/plain": [
       "<Figure size 432x288 with 1 Axes>"
      ]
     },
     "metadata": {
      "needs_background": "light"
     },
     "output_type": "display_data"
    }
   ],
   "source": [
    "plt.plot(td_mean_similars[:15], label = 'Similar')\n",
    "plt.plot(td_mean_differents[:15], label = 'Different')\n",
    "plt.hlines(0.060, 0, 15, label='threshold', linestyle='dashed', color='black')\n",
    "\n",
    "plt.legend()\n",
    "plt.ylabel(\"Closeness\")\n",
    "plt.xlabel(\"Figure\")"
   ]
  },
  {
   "cell_type": "markdown",
   "id": "d743aca7",
   "metadata": {},
   "source": [
    "### Mean image trick"
   ]
  },
  {
   "cell_type": "code",
   "execution_count": null,
   "id": "d07c5d7c",
   "metadata": {},
   "outputs": [],
   "source": [
    "def quantum_fidelity_patches(imgref_patches, imgtrial_patches, n_shots):\n",
    "    cfids = []\n",
    "    tds = []\n",
    "    \n",
    "    for i in range(imgref_patches.shape[0]): \n",
    "        imgref = imgref_patches[i]\n",
    "        imgtrial = imgtrial_patches[i]\n",
    "\n",
    "        theta_ref = imgref.flatten()\n",
    "        theta_trial = imgtrial.flatten()\n",
    "        \n",
    "        n = int(np.log2(theta_ref.size))\n",
    "\n",
    "        U_ref = get_U(n, theta_ref)\n",
    "        U_trial = get_U(n, theta_trial)\n",
    "\n",
    "        cfid = quantum_fidelity(U_ref, U_trial, n, n_shots)\n",
    "\n",
    "        cfids.append(cfid)\n",
    "        tds.append(2*(1-np.sqrt(cfid)))\n",
    "    \n",
    "    cfids = np.array(cfids)\n",
    "    tds = np.array(tds)\n",
    "\n",
    "    return cfids, tds\n",
    "\n",
    "td_meanimage_similars = []\n",
    "td_meanimage_differents = []\n",
    "n_shots = 100000\n",
    "\n",
    "img_ref = np.mean(img_refs, axis = 0)\n",
    "imgref_patches = get_patches(img_ref, 2)\n",
    "imgtrialsimilar_patches = get_patches(img_trial_similar_mean, 2)\n",
    "imgtrialdifferent_patches = get_patches(img_trial_different_mean, 2)\n",
    "\n",
    "cfids_similar, tds_similar = quantum_fidelity_patches(imgref_patches, imgtrialsimilar_patches, n_shots)\n",
    "cfids_different, tds_different = quantum_fidelity_patches(imgref_patches, imgtrialdifferent_patches, n_shots)\n",
    "\n",
    "td_meanimage_similars = np.mean(tds_similar, axis = 0)\n",
    "td_meanimage_differents = np.mean(tds_different, axis = 0)\n"
   ]
  },
  {
   "cell_type": "code",
   "execution_count": 859,
   "id": "66a0da6d",
   "metadata": {},
   "outputs": [
    {
     "name": "stderr",
     "output_type": "stream",
     "text": [
      "No artists with labels found to put in legend.  Note that artists whose label start with an underscore are ignored when legend() is called with no argument.\n"
     ]
    },
    {
     "data": {
      "text/plain": [
       "Text(0.5, 0, 'Figure')"
      ]
     },
     "execution_count": 859,
     "metadata": {},
     "output_type": "execute_result"
    },
    {
     "data": {
      "image/png": "[encoded data removed]",
      "text/plain": [
       "<Figure size 432x288 with 1 Axes>"
      ]
     },
     "metadata": {
      "needs_background": "light"
     },
     "output_type": "display_data"
    }
   ],
   "source": [
    "plt.plot(td_mean_similars, label = 'Similar')\n",
    "plt.plot(td_mean_differents, label = 'Different')\n",
    "plt.hlines(0.18, 0, n_images, label='threshold', linestyle='dashed', color='black')\n",
    "\n",
    "plt.legend()\n",
    "plt.ylabel(\"Closeness\")\n",
    "plt.xlabel(\"Figure\")"
   ]
  }
 ],
 "metadata": {
  "kernelspec": {
   "display_name": "Python 3 (ipykernel)",
   "language": "python",
   "name": "python3"
  },
  "language_info": {
   "codemirror_mode": {
    "name": "ipython",
    "version": 3
   },
   "file_extension": ".py",
   "mimetype": "text/x-python",
   "name": "python",
   "nbconvert_exporter": "python",
   "pygments_lexer": "ipython3",
   "version": "3.9.12"
  }
 },
 "nbformat": 4,
 "nbformat_minor": 5
}
